{
 "cells": [
  {
   "cell_type": "markdown",
   "id": "e3bec7bc-3091-4f80-869e-2168d25eea2b",
   "metadata": {},
   "source": [
    "<aside>\n",
    "💡 **Question 1**\n",
    "Given an integer array nums of 2n integers, group these integers into n pairs (a1, b1), (a2, b2),..., (an, bn) such that the sum of min(ai, bi) for all i is maximized. Return the maximized sum.\n",
    "\n",
    "**Example 1:**\n",
    "Input: nums = [1,4,3,2]\n",
    "Output: 4\n",
    "\n",
    "**Explanation:** All possible pairings (ignoring the ordering of elements) are:\n",
    "\n",
    "1. (1, 4), (2, 3) -> min(1, 4) + min(2, 3) = 1 + 2 = 3\n",
    "2. (1, 3), (2, 4) -> min(1, 3) + min(2, 4) = 1 + 2 = 3\n",
    "3. (1, 2), (3, 4) -> min(1, 2) + min(3, 4) = 1 + 3 = 4\n",
    "So the maximum possible sum is 4\n",
    "</aside>\n",
    "\n",
    "<aside>\n",
    "💡 **Question 2**\n",
    "\n",
    "</aside>"
   ]
  },
  {
   "cell_type": "markdown",
   "id": "91a6a6a0-a148-4399-8a3a-783252961669",
   "metadata": {},
   "source": [
    "To maximize the sum of minimum values in pairs, we can sort the array and pair the consecutive elements. The smaller element in each pair will always be the minimum among the two, so summing up these minimums will give us the maximum possible sum."
   ]
  },
  {
   "cell_type": "code",
   "execution_count": 1,
   "id": "6fd1038f-1c38-4d50-b7e1-4d3b0e6f2db6",
   "metadata": {},
   "outputs": [
    {
     "name": "stdout",
     "output_type": "stream",
     "text": [
      "4\n"
     ]
    }
   ],
   "source": [
    "def arrayPairSum(nums):\n",
    "    nums.sort()  # Sort the array in ascending order\n",
    "    result = 0\n",
    "    for i in range(0, len(nums), 2):\n",
    "        result += nums[i]\n",
    "    return result\n",
    "\n",
    "# Example usage:\n",
    "nums = [1, 4, 3, 2]\n",
    "max_sum = arrayPairSum(nums)\n",
    "print(max_sum)\n"
   ]
  },
  {
   "cell_type": "markdown",
   "id": "ada68b67-32c3-44c3-9025-eb1143b1fd93",
   "metadata": {},
   "source": [
    "In the code, we first sort the nums array in ascending order. Then, we iterate over the sorted array with a step of 2, summing up the elements at even indices. Since the array is sorted, the even-indexed elements will be the smaller values in each pair. Finally, we return the calculated sum.\n",
    "\n",
    "The solution has a time complexity of O(n log n) due to the sorting operation, where n is the length of the input array nums."
   ]
  },
  {
   "cell_type": "markdown",
   "id": "b9f847e4-da7b-43dd-acfc-e2275fcab3bf",
   "metadata": {},
   "source": [
    "Question 2\n",
    "Alice has n candies, where the ith candy is of type candyType[i]. Alice noticed that she started to gain weight, so she visited a doctor. \n",
    "\n",
    "The doctor advised Alice to only eat n / 2 of the candies she has (n is always even). Alice likes her candies very much, and she wants to eat the maximum number of different types of candies while still following the doctor's advice. \n",
    "\n",
    "Given the integer array candyType of length n, return the maximum number of different types of candies she can eat if she only eats n / 2 of them.\n",
    "\n",
    "Example 1:\n",
    "Input: candyType = [1,1,2,2,3,3]\n",
    "Output: 3\n",
    "\n",
    "Explanation: Alice can only eat 6 / 2 = 3 candies. Since there are only 3 types, she can eat one of each type."
   ]
  },
  {
   "cell_type": "markdown",
   "id": "2e7a73ab-09b5-4bab-b817-304471e22d0c",
   "metadata": {},
   "source": [
    "*Soln--- To solve the given problem, we need to find the maximum number of different types of candies Alice can eat, considering the constraint that she can only eat n/2 candies.\n",
    "\n",
    "We can use a set to keep track of the unique types of candies. By calculating the minimum between the number of unique candies and n/2, we can determine the maximum number of different types of candies Alice can eat."
   ]
  },
  {
   "cell_type": "code",
   "execution_count": 2,
   "id": "ae3d6f3f-bf1c-489e-94d0-9b96e7b077a2",
   "metadata": {},
   "outputs": [
    {
     "name": "stdout",
     "output_type": "stream",
     "text": [
      "3\n"
     ]
    }
   ],
   "source": [
    "def distributeCandies(candyType):\n",
    "    unique_candies = set(candyType)\n",
    "    max_candies = min(len(unique_candies), len(candyType) // 2)\n",
    "    return max_candies\n",
    "\n",
    "# Example usage:\n",
    "candyType = [1, 1, 2, 2, 3, 3]\n",
    "max_diff_types = distributeCandies(candyType)\n",
    "print(max_diff_types)\n"
   ]
  },
  {
   "cell_type": "markdown",
   "id": "2a36170c-c0f6-4aaa-9c8b-debeff945612",
   "metadata": {},
   "source": [
    "In the code, we first create a set unique_candies to store the unique types of candies. Then, we calculate the maximum number of candies Alice can eat by taking the minimum between the number of unique candies and len(candyType) // 2. This ensures that if there are fewer unique candies than n/2, we consider all the unique candies. Finally, we return the maximum number of different types of candies Alice can eat.\n",
    "\n",
    "The solution has a time complexity of O(n), where n is the length of the input array candyType. The set operation and the calculation of the minimum value both have linear time complexity.\n",
    "\n",
    "\n",
    "\n",
    "\n",
    "\n",
    "\n"
   ]
  },
  {
   "cell_type": "markdown",
   "id": "a3c4b34b-964e-48d5-aeec-f85740cca311",
   "metadata": {},
   "source": [
    "### Question 3\n",
    "We define a harmonious array as an array where the difference between its maximum value\n",
    "and its minimum value is exactly 1.\n",
    "\n",
    "Given an integer array nums, return the length of its longest harmonious subsequence\n",
    "among all its possible subsequences.\n",
    "\n",
    "A subsequence of an array is a sequence that can be derived from the array by deleting some or no elements without changing the order of the remaining elements.\n",
    "\n",
    "Example 1:\n",
    "Input: nums = [1,3,2,2,5,2,3,7]\n",
    "Output: 5\n",
    "\n",
    "Explanation: The longest harmonious subsequence is [3,2,2,2,3]."
   ]
  },
  {
   "cell_type": "markdown",
   "id": "f84e8774-eef1-40a5-ab52-1ec83c989a01",
   "metadata": {},
   "source": [
    "##### Soln: To solve the given problem, we can use a hash map to count the frequency of each number in the input array nums. Then, for each number in the hash map, we check if its neighboring numbers (i.e., current number ± 1) exist in the hash map. If they do, we calculate the length of the harmonious subsequence that includes the current number and update the maximum length accordingly."
   ]
  },
  {
   "cell_type": "code",
   "execution_count": 3,
   "id": "e120cc57-18a8-4fff-92bb-979526fceb4a",
   "metadata": {},
   "outputs": [
    {
     "name": "stdout",
     "output_type": "stream",
     "text": [
      "5\n"
     ]
    }
   ],
   "source": [
    "def findLHS(nums):\n",
    "    num_counts = {}\n",
    "    max_length = 0\n",
    "\n",
    "    # Count the frequency of each number in nums\n",
    "    for num in nums:\n",
    "        num_counts[num] = num_counts.get(num, 0) + 1\n",
    "\n",
    "    # Check each number in num_counts\n",
    "    for num in num_counts:\n",
    "        if num + 1 in num_counts:\n",
    "            curr_length = num_counts[num] + num_counts[num + 1]\n",
    "            max_length = max(max_length, curr_length)\n",
    "\n",
    "    return max_length\n",
    "\n",
    "# Example usage:\n",
    "nums = [1, 3, 2, 2, 5, 2, 3, 7]\n",
    "max_subseq_length = findLHS(nums)\n",
    "print(max_subseq_length)\n"
   ]
  },
  {
   "cell_type": "markdown",
   "id": "c1063f2d-39ae-46b8-9090-673e5b754a35",
   "metadata": {},
   "source": [
    "##### In the code, we first create a hash map num_counts to store the frequency of each number in nums. We iterate through nums and update the count in the hash map for each number.\n",
    "\n",
    "Next, we iterate through the keys in num_counts and check if the neighboring numbers (num + 1) exist in the hash map. If they do, we calculate the current length of the harmonious subsequence that includes the current number and update the maximum length accordingly.\n",
    "\n",
    "Finally, we return the maximum length of the harmonious subsequence.\n",
    "\n",
    "The solution has a time complexity of O(n), where n is the length of the input array nums. The hash map operations take linear time, and the iteration through num_counts also takes linear time since the number of unique keys is bounded by the number of elements in nums."
   ]
  },
  {
   "cell_type": "markdown",
   "id": "a22bf1ae-8ea3-43ff-9883-9ea0fdf35dfe",
   "metadata": {},
   "source": [
    "#### Question 4\n",
    "You have a long flowerbed in which some of the plots are planted, and some are not.\n",
    "However, flowers cannot be planted in adjacent plots.\n",
    "Given an integer array flowerbed containing 0's and 1's, where 0 means empty and 1 means not empty, and an integer n, return true if n new flowers can be planted in the flowerbed without violating the no-adjacent-flowers rule and false otherwise.\n",
    "\n",
    "Example 1:\n",
    "Input: flowerbed = [1,0,0,0,1], n = 1\n",
    "Output: true"
   ]
  },
  {
   "cell_type": "markdown",
   "id": "fa0f7108-63df-4ebb-a3c2-a3f370f4d05c",
   "metadata": {},
   "source": [
    "To solve the given problem, we can iterate through the flowerbed and check if each plot is empty (0) and its adjacent plots are also empty. If a plot meets these conditions, we can plant a flower there and decrement the value of n. We repeat this process until either n becomes zero or we reach the end of the flowerbed."
   ]
  },
  {
   "cell_type": "code",
   "execution_count": 5,
   "id": "83774d1f-66ed-4bfa-ab78-5c9c7ff9b570",
   "metadata": {},
   "outputs": [
    {
     "name": "stdout",
     "output_type": "stream",
     "text": [
      "True\n"
     ]
    }
   ],
   "source": [
    "def canPlaceFlowers(flowerbed, n):\n",
    "    i = 0\n",
    "    while i < len(flowerbed) and n > 0:\n",
    "        if flowerbed[i] == 0 and (i == 0 or flowerbed[i - 1] == 0) and (i == len(flowerbed) - 1 or flowerbed[i + 1] == 0):\n",
    "            flowerbed[i] = 1\n",
    "            n -= 1\n",
    "        i += 1\n",
    "\n",
    "    return n == 0\n",
    "\n",
    "# Example usage:\n",
    "flowerbed = [1, 0, 0, 0, 1]\n",
    "n = 1\n",
    "can_plant = canPlaceFlowers(flowerbed, n)\n",
    "print(can_plant)\n"
   ]
  },
  {
   "cell_type": "markdown",
   "id": "effe4f02-f242-4d2c-851c-d19eb0e85e7d",
   "metadata": {},
   "source": [
    "In the code, we initialize a pointer i to iterate through the flowerbed. We check if the current plot at flowerbed[i] is empty (0) and if its adjacent plots (if they exist) are also empty. If these conditions are satisfied, we plant a flower at the current plot by setting flowerbed[i] to 1 and decrementing n by 1. We then move to the next plot by incrementing i.\n",
    "\n",
    "The iteration continues until either n becomes zero (indicating that all flowers have been planted) or we reach the end of the flowerbed. Finally, we return True if n is equal to zero (indicating that all flowers could be planted) and False otherwise.\n",
    "\n",
    "The solution has a time complexity of O(m), where m is the length of the flowerbed. The algorithm performs a single pass through the flowerbed, and each iteration takes constant time to check and update the plots."
   ]
  },
  {
   "cell_type": "markdown",
   "id": "ef534346-1ee3-49e0-9424-2db1a750f017",
   "metadata": {},
   "source": [
    "#### Question 5\n",
    "Given an integer array nums, find three numbers whose product is maximum and return the maximum product.\n",
    "\n",
    "Example 1:\n",
    "Input: nums = [1,2,3]\n",
    "Output: 6"
   ]
  },
  {
   "cell_type": "code",
   "execution_count": 6,
   "id": "cd58dfd4-8a2c-4e58-81ca-b0d26605e9a0",
   "metadata": {},
   "outputs": [
    {
     "name": "stdout",
     "output_type": "stream",
     "text": [
      "6\n"
     ]
    }
   ],
   "source": [
    "def maximumProduct(nums):\n",
    "    nums.sort()\n",
    "    n = len(nums)\n",
    "\n",
    "    # Case 1: Product of the three largest numbers\n",
    "    max_product = nums[n - 1] * nums[n - 2] * nums[n - 3]\n",
    "\n",
    "    # Case 2: Product of the two smallest negative numbers and the largest positive number\n",
    "    alt_product = nums[0] * nums[1] * nums[n - 1]\n",
    "\n",
    "    # Return the maximum product\n",
    "    return max(max_product, alt_product)\n",
    "\n",
    "# Example usage:\n",
    "nums = [1, 2, 3]\n",
    "max_prod = maximumProduct(nums)\n",
    "print(max_prod)\n"
   ]
  },
  {
   "cell_type": "markdown",
   "id": "45f3fac3-2018-456f-b571-ed6d88e67fec",
   "metadata": {},
   "source": [
    "#### Question 6\n",
    "Given an array of integers nums which is sorted in ascending order, and an integer target,\n",
    "write a function to search target in nums. If target exists, then return its index. Otherwise,\n",
    "return -1.\n",
    "\n",
    "You must write an algorithm with O(log n) runtime complexity.\n",
    "\n",
    "Input: nums = [-1,0,3,5,9,12], target = 9\n",
    "Output: 4\n",
    "\n",
    "Explanation: 9 exists in nums and its index is 4"
   ]
  },
  {
   "cell_type": "code",
   "execution_count": 8,
   "id": "0ed9a91c-c2c9-4164-af6c-a053e62506ec",
   "metadata": {},
   "outputs": [
    {
     "name": "stdout",
     "output_type": "stream",
     "text": [
      "4\n"
     ]
    }
   ],
   "source": [
    "def search(nums, target):\n",
    "    left, right = 0, len(nums) - 1\n",
    "\n",
    "    while left <= right:\n",
    "        mid = left + (right - left) // 2\n",
    "        if nums[mid] == target:\n",
    "            return mid\n",
    "        elif nums[mid] < target:\n",
    "            left = mid + 1\n",
    "        else:\n",
    "            right = mid - 1\n",
    "\n",
    "    # If the target is not found, return -1\n",
    "    return -1\n",
    "\n",
    "# Example usage:\n",
    "nums = [-1, 0, 3, 5, 9, 12]\n",
    "target = 9\n",
    "index = search(nums, target)\n",
    "print(index)\n"
   ]
  },
  {
   "cell_type": "markdown",
   "id": "81aacc15-31e6-4b12-845e-b94a210d42bc",
   "metadata": {},
   "source": [
    "#### Question 7\n",
    "An array is monotonic if it is either monotone increasing or monotone decreasing.\n",
    "\n",
    "An array nums is monotone increasing if for all i <= j, nums[i] <= nums[j]. An array nums is\n",
    "monotone decreasing if for all i <= j, nums[i] >= nums[j].\n",
    "\n",
    "Given an integer array nums, return true if the given array is monotonic, or false otherwise.\n",
    "\n",
    "Example 1:\n",
    "Input: nums = [1,2,2,3]\n",
    "Output: true"
   ]
  },
  {
   "cell_type": "code",
   "execution_count": 9,
   "id": "13013b14-e2b2-4787-9a00-ad16426e0e2f",
   "metadata": {},
   "outputs": [
    {
     "name": "stdout",
     "output_type": "stream",
     "text": [
      "True\n"
     ]
    }
   ],
   "source": [
    "def isMonotonic(nums):\n",
    "    is_increasing = True\n",
    "    is_decreasing = True\n",
    "\n",
    "    for i in range(1, len(nums)):\n",
    "        if nums[i] < nums[i - 1]:\n",
    "            is_increasing = False\n",
    "        if nums[i] > nums[i - 1]:\n",
    "            is_decreasing = False\n",
    "\n",
    "    return is_increasing or is_decreasing\n",
    "\n",
    "# Example usage:\n",
    "nums = [1, 2, 2, 3]\n",
    "is_monotonic = isMonotonic(nums)\n",
    "print(is_monotonic)\n"
   ]
  },
  {
   "cell_type": "markdown",
   "id": "4caa27c3-9f58-4191-b0f9-bd0e249a6127",
   "metadata": {},
   "source": [
    "#### Question 8\n",
    "You are given an integer array nums and an integer k.\n",
    "\n",
    "In one operation, you can choose any index i where 0 <= i < nums.length and change nums[i] to nums[i] + x where x is an integer from the range [-k, k]. You can apply this operation at most once for each index i.\n",
    "\n",
    "The score of nums is the difference between the maximum and minimum elements in nums.\n",
    "\n",
    "Return the minimum score of nums after applying the mentioned operation at most once for each index in it.\n",
    "\n",
    "Example 1:\n",
    "Input: nums = [1], k = 0\n",
    "Output: 0\n",
    "\n",
    "Explanation: The score is max(nums) - min(nums) = 1 - 1 = 0."
   ]
  },
  {
   "cell_type": "code",
   "execution_count": 10,
   "id": "e5cf853d-0fe4-4863-b2b0-35420fb3ac07",
   "metadata": {},
   "outputs": [
    {
     "name": "stdout",
     "output_type": "stream",
     "text": [
      "0\n"
     ]
    }
   ],
   "source": [
    "def smallestRangeI(nums, k):\n",
    "    min_val = min(nums)\n",
    "    max_val = max(nums)\n",
    "    diff = max_val - min_val\n",
    "    return max(0, diff - 2 * k)\n",
    "\n",
    "# Example usage:\n",
    "nums = [1]\n",
    "k = 0\n",
    "min_score = smallestRangeI(nums, k)\n",
    "print(min_score)\n"
   ]
  },
  {
   "cell_type": "code",
   "execution_count": null,
   "id": "5a542eb5-9ac8-43b3-8c10-7bf0c957469f",
   "metadata": {},
   "outputs": [],
   "source": []
  },
  {
   "cell_type": "code",
   "execution_count": null,
   "id": "bb08c5f7-f4d9-4c1a-ac2e-dddf52fc5aac",
   "metadata": {},
   "outputs": [],
   "source": []
  },
  {
   "cell_type": "code",
   "execution_count": null,
   "id": "3eff94df-0f8b-4e28-9da6-40f0bb163a6b",
   "metadata": {},
   "outputs": [],
   "source": []
  },
  {
   "cell_type": "code",
   "execution_count": null,
   "id": "ed1a2637-33b7-4cd9-871c-a0f0935706dc",
   "metadata": {},
   "outputs": [],
   "source": []
  },
  {
   "cell_type": "code",
   "execution_count": null,
   "id": "c4e21488-6c67-4f32-8873-0dc2715d6e09",
   "metadata": {},
   "outputs": [],
   "source": []
  },
  {
   "cell_type": "code",
   "execution_count": null,
   "id": "518bb5df-a782-4d05-a4f3-addee793bb4b",
   "metadata": {},
   "outputs": [],
   "source": []
  }
 ],
 "metadata": {
  "kernelspec": {
   "display_name": "Python 3 (ipykernel)",
   "language": "python",
   "name": "python3"
  },
  "language_info": {
   "codemirror_mode": {
    "name": "ipython",
    "version": 3
   },
   "file_extension": ".py",
   "mimetype": "text/x-python",
   "name": "python",
   "nbconvert_exporter": "python",
   "pygments_lexer": "ipython3",
   "version": "3.10.8"
  }
 },
 "nbformat": 4,
 "nbformat_minor": 5
}
